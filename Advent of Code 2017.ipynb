{
 "cells": [
  {
   "cell_type": "markdown",
   "metadata": {},
   "source": [
    "# Advent of Code 2017\n",
    "\n",
    "Done by me!"
   ]
  },
  {
   "cell_type": "markdown",
   "metadata": {},
   "source": [
    "## Day 1 ##"
   ]
  },
  {
   "cell_type": "code",
   "execution_count": 27,
   "metadata": {},
   "outputs": [
    {
     "name": "stdout",
     "output_type": "stream",
     "text": [
      "1158\n",
      "1132\n"
     ]
    }
   ],
   "source": [
    "#read input from txt file\n",
    "with open('input/day1.txt', 'r') as file:\n",
    "    data=file.read().replace('\\n','')\n",
    "    #first question\n",
    "    summation = 0\n",
    "    for index in range(0,len(data)):\n",
    "        if(data[index] == data[(index + 1) % len(data)]):\n",
    "            summation += int(data[index])\n",
    "    print(summation)\n",
    "    #second question\n",
    "    summation = 0\n",
    "    for index in range(0,len(data)):\n",
    "        if(data[index] == data[(index + int(len(data)/2)) % len(data)]):\n",
    "            summation += int(data[index])\n",
    "    print(summation)\n",
    "            "
   ]
  },
  {
   "cell_type": "markdown",
   "metadata": {},
   "source": [
    "## Day 2##"
   ]
  },
  {
   "cell_type": "code",
   "execution_count": 28,
   "metadata": {},
   "outputs": [
    {
     "name": "stdout",
     "output_type": "stream",
     "text": [
      "51833\n",
      "288\n"
     ]
    }
   ],
   "source": [
    "def lookformultiples(numbers):\n",
    "    for index in range(0,len(numbers)-1):\n",
    "            for index2 in range(index+1,len(numbers)):\n",
    "                if((numbers[index] % numbers[index2]) == 0):\n",
    "                    return int(numbers[index] / numbers[index2])\n",
    "                elif((numbers[index2] % numbers[index]) == 0):\n",
    "                    return int(numbers[index2] / numbers[index])\n",
    "    return -1\n",
    "\n",
    "#read input from txt file\n",
    "with open('input/day2.txt', 'r') as file:\n",
    "    summation = 0\n",
    "    data=file.read().rstrip().split('\\n')\n",
    "    #first question\n",
    "    for line in data:\n",
    "        numbers = [int(x) for x in line.split()]\n",
    "        summation += max(numbers) - min(numbers)\n",
    "    print(summation)\n",
    "    #second question\n",
    "    summation = 0\n",
    "    for line in data:\n",
    "        numbers = [int(x) for x in line.split()]\n",
    "        summation += lookformultiples(numbers)\n",
    "    print(summation)\n",
    "        \n",
    "            "
   ]
  },
  {
   "cell_type": "markdown",
   "metadata": {
    "collapsed": true
   },
   "source": [
    "## Day 3 ##"
   ]
  },
  {
   "cell_type": "code",
   "execution_count": 59,
   "metadata": {},
   "outputs": [
    {
     "name": "stdout",
     "output_type": "stream",
     "text": [
      "480\n",
      "349975\n"
     ]
    }
   ],
   "source": [
    "puzzle_input = 347991\n",
    "\n",
    "n = 0\n",
    "summation = 1\n",
    "\n",
    "while summation < puzzle_input:\n",
    "    n += 1\n",
    "    summation += 8*n\n",
    "    \n",
    "#other coordinate\n",
    "coord = n - ((summation - puzzle_input) % n)\n",
    "\n",
    "print(coord + n)\n",
    "\n",
    "n = 1\n",
    "x,y = 8,8\n",
    "\n",
    "matrix = [[0 for x in range(17)] for y in range(17)]\n",
    "matrix[x][y] = 1\n",
    "\n",
    "x+=1\n",
    "\n",
    "while True:\n",
    "    while(matrix[x-1][y] != 0):#right side\n",
    "        matrix[x][y] = matrix[x-1][y+1] + matrix[x-1][y-1] + matrix[x-1][y] + matrix[x][y-1]\n",
    "        if(matrix[x][y] > puzzle_input):\n",
    "            break\n",
    "        y+=1\n",
    "    if(matrix[x][y] > puzzle_input):\n",
    "        break\n",
    "    matrix[x][y] = matrix[x][y-1] + matrix[x-1][y-1]#top right corner\n",
    "    if(matrix[x][y] > puzzle_input):\n",
    "        break\n",
    "    while(matrix[x][y-1] != 0):#top side\n",
    "        matrix[x][y] = matrix[x+1][y] + matrix[x][y-1] + matrix[x-1][y-1] + matrix[x+1][y-1]\n",
    "        if(matrix[x][y] > puzzle_input):\n",
    "            break\n",
    "        x-=1\n",
    "    if(matrix[x][y] > puzzle_input):\n",
    "        break\n",
    "    matrix[x][y] = matrix[x+1][y] + matrix[x+1][y-1]\n",
    "    if(matrix[x][y] > puzzle_input):\n",
    "        break\n",
    "    while(matrix[x+1][y] != 0):#left side\n",
    "        matrix[x][y] = matrix[x+1][y+1] + matrix[x+1][y-1] + matrix[x+1][y] + matrix[x][y+1]\n",
    "        if(matrix[x][y] > puzzle_input):\n",
    "            break\n",
    "        y-=1\n",
    "    if(matrix[x][y] > puzzle_input):\n",
    "        break\n",
    "    matrix[x][y] = matrix[x][y+1] + matrix[x+1][y+1]\n",
    "    if(matrix[x][y] > puzzle_input):\n",
    "        break\n",
    "    while(matrix[x][y+1] != 0):#bottom side\n",
    "        matrix[x][y] = matrix[x-1][y] + matrix[x][y+1] + matrix[x-1][y+1] + matrix[x+1][y+1]\n",
    "        if(matrix[x][y] > puzzle_input):\n",
    "            break\n",
    "        x+=1\n",
    "    if(matrix[x][y] > puzzle_input):\n",
    "        break\n",
    "    matrix[x][y] = matrix[x-1][y] + matrix[x-1][y+1]\n",
    "print(matrix[x][y])"
   ]
  },
  {
   "cell_type": "code",
   "execution_count": null,
   "metadata": {
    "collapsed": true
   },
   "outputs": [],
   "source": []
  }
 ],
 "metadata": {
  "kernelspec": {
   "display_name": "Python 3",
   "language": "python",
   "name": "python3"
  },
  "language_info": {
   "codemirror_mode": {
    "name": "ipython",
    "version": 3
   },
   "file_extension": ".py",
   "mimetype": "text/x-python",
   "name": "python",
   "nbconvert_exporter": "python",
   "pygments_lexer": "ipython3",
   "version": "3.6.2"
  }
 },
 "nbformat": 4,
 "nbformat_minor": 2
}
