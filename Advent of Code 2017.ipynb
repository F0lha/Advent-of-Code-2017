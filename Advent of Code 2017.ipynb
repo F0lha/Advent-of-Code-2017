{
 "cells": [
  {
   "cell_type": "markdown",
   "metadata": {},
   "source": [
    "# Advent of Code 2017\n",
    "\n",
    "Done by me!"
   ]
  },
  {
   "cell_type": "markdown",
   "metadata": {},
   "source": [
    "## Day 1 ##"
   ]
  },
  {
   "cell_type": "code",
   "execution_count": 27,
   "metadata": {},
   "outputs": [
    {
     "name": "stdout",
     "output_type": "stream",
     "text": [
      "1158\n",
      "1132\n"
     ]
    }
   ],
   "source": [
    "#read input from txt file\n",
    "with open('input/day1.txt', 'r') as file:\n",
    "    data=file.read().replace('\\n','')\n",
    "    #first question\n",
    "    summation = 0\n",
    "    for index in range(0,len(data)):\n",
    "        if(data[index] == data[(index + 1) % len(data)]):\n",
    "            summation += int(data[index])\n",
    "    print(summation)\n",
    "    #second question\n",
    "    summation = 0\n",
    "    for index in range(0,len(data)):\n",
    "        if(data[index] == data[(index + int(len(data)/2)) % len(data)]):\n",
    "            summation += int(data[index])\n",
    "    print(summation)\n",
    "            "
   ]
  },
  {
   "cell_type": "markdown",
   "metadata": {},
   "source": [
    "## Day 2##"
   ]
  },
  {
   "cell_type": "code",
   "execution_count": 28,
   "metadata": {},
   "outputs": [
    {
     "name": "stdout",
     "output_type": "stream",
     "text": [
      "51833\n",
      "288\n"
     ]
    }
   ],
   "source": [
    "def lookformultiples(numbers):\n",
    "    for index in range(0,len(numbers)-1):\n",
    "            for index2 in range(index+1,len(numbers)):\n",
    "                if((numbers[index] % numbers[index2]) == 0):\n",
    "                    return int(numbers[index] / numbers[index2])\n",
    "                elif((numbers[index2] % numbers[index]) == 0):\n",
    "                    return int(numbers[index2] / numbers[index])\n",
    "    return -1\n",
    "\n",
    "#read input from txt file\n",
    "with open('input/day2.txt', 'r') as file:\n",
    "    summation = 0\n",
    "    data=file.read().rstrip().split('\\n')\n",
    "    #first question\n",
    "    for line in data:\n",
    "        numbers = [int(x) for x in line.split()]\n",
    "        summation += max(numbers) - min(numbers)\n",
    "    print(summation)\n",
    "    #second question\n",
    "    summation = 0\n",
    "    for line in data:\n",
    "        numbers = [int(x) for x in line.split()]\n",
    "        summation += lookformultiples(numbers)\n",
    "    print(summation)\n",
    "        \n",
    "            "
   ]
  },
  {
   "cell_type": "markdown",
   "metadata": {
    "collapsed": true
   },
   "source": [
    "## Day 3 ##"
   ]
  },
  {
   "cell_type": "code",
   "execution_count": 59,
   "metadata": {},
   "outputs": [
    {
     "name": "stdout",
     "output_type": "stream",
     "text": [
      "480\n",
      "349975\n"
     ]
    }
   ],
   "source": [
    "puzzle_input = 347991\n",
    "\n",
    "n = 0\n",
    "summation = 1\n",
    "\n",
    "while summation < puzzle_input:\n",
    "    n += 1\n",
    "    summation += 8*n\n",
    "    \n",
    "#other coordinate\n",
    "coord = n - ((summation - puzzle_input) % n)\n",
    "\n",
    "print(coord + n)\n",
    "\n",
    "n = 1\n",
    "x,y = 8,8\n",
    "\n",
    "matrix = [[0 for x in range(17)] for y in range(17)]\n",
    "matrix[x][y] = 1\n",
    "\n",
    "x+=1\n",
    "\n",
    "while True:\n",
    "    while(matrix[x-1][y] != 0):#right side\n",
    "        matrix[x][y] = matrix[x-1][y+1] + matrix[x-1][y-1] + matrix[x-1][y] + matrix[x][y-1]\n",
    "        if(matrix[x][y] > puzzle_input):\n",
    "            break\n",
    "        y+=1\n",
    "    if(matrix[x][y] > puzzle_input):\n",
    "        break\n",
    "    matrix[x][y] = matrix[x][y-1] + matrix[x-1][y-1]#top right corner\n",
    "    if(matrix[x][y] > puzzle_input):\n",
    "        break\n",
    "    while(matrix[x][y-1] != 0):#top side\n",
    "        matrix[x][y] = matrix[x+1][y] + matrix[x][y-1] + matrix[x-1][y-1] + matrix[x+1][y-1]\n",
    "        if(matrix[x][y] > puzzle_input):\n",
    "            break\n",
    "        x-=1\n",
    "    if(matrix[x][y] > puzzle_input):\n",
    "        break\n",
    "    matrix[x][y] = matrix[x+1][y] + matrix[x+1][y-1]\n",
    "    if(matrix[x][y] > puzzle_input):\n",
    "        break\n",
    "    while(matrix[x+1][y] != 0):#left side\n",
    "        matrix[x][y] = matrix[x+1][y+1] + matrix[x+1][y-1] + matrix[x+1][y] + matrix[x][y+1]\n",
    "        if(matrix[x][y] > puzzle_input):\n",
    "            break\n",
    "        y-=1\n",
    "    if(matrix[x][y] > puzzle_input):\n",
    "        break\n",
    "    matrix[x][y] = matrix[x][y+1] + matrix[x+1][y+1]\n",
    "    if(matrix[x][y] > puzzle_input):\n",
    "        break\n",
    "    while(matrix[x][y+1] != 0):#bottom side\n",
    "        matrix[x][y] = matrix[x-1][y] + matrix[x][y+1] + matrix[x-1][y+1] + matrix[x+1][y+1]\n",
    "        if(matrix[x][y] > puzzle_input):\n",
    "            break\n",
    "        x+=1\n",
    "    if(matrix[x][y] > puzzle_input):\n",
    "        break\n",
    "    matrix[x][y] = matrix[x-1][y] + matrix[x-1][y+1]\n",
    "print(matrix[x][y])"
   ]
  },
  {
   "cell_type": "markdown",
   "metadata": {},
   "source": [
    "## Day 4 ##"
   ]
  },
  {
   "cell_type": "code",
   "execution_count": 109,
   "metadata": {},
   "outputs": [
    {
     "name": "stdout",
     "output_type": "stream",
     "text": [
      "383\n",
      "265\n"
     ]
    }
   ],
   "source": [
    "import itertools as it\n",
    "#read input from txt file\n",
    "with open('input/day4.txt', 'r') as file:\n",
    "    data = file.read().rstrip().split('\\n')\n",
    "    #first part\n",
    "    summation = 0\n",
    "    for line in data:\n",
    "        passphrase = line.split(' ')\n",
    "        if(len(set(passphrase)) == len(passphrase)):\n",
    "            summation +=1\n",
    "    print(summation)\n",
    "    #second part\n",
    "    summation = 0\n",
    "    for line in data:\n",
    "        passphrase = line.split(' ')\n",
    "        summation += 1\n",
    "        phrase = True\n",
    "        if(len(set(passphrase)) != len(passphrase)):\n",
    "            summation -= 1\n",
    "            continue\n",
    "        for word in passphrase:\n",
    "            if(phrase == False):\n",
    "                break\n",
    "            permut = list(it.permutations(word))\n",
    "            permut_string = [''.join(x) for x in permut]\n",
    "            for per in permut_string:\n",
    "                if(per in [x for x in passphrase if x != word]):\n",
    "                    phrase = False\n",
    "                    summation -=1\n",
    "                    break\n",
    "    print(summation)"
   ]
  },
  {
   "cell_type": "markdown",
   "metadata": {},
   "source": [
    "## Day 5 ##"
   ]
  },
  {
   "cell_type": "code",
   "execution_count": 122,
   "metadata": {},
   "outputs": [
    {
     "name": "stdout",
     "output_type": "stream",
     "text": [
      "30513679\n"
     ]
    }
   ],
   "source": [
    "import itertools as it\n",
    "#read input from txt file\n",
    "with open('input/day5.txt', 'r') as file:\n",
    "    data = [int(x) for x in file.read().rstrip().split('\\n')]\n",
    "    index = 0\n",
    "    jumps = 0\n",
    "    while index < len(data):\n",
    "        jump = data[index]\n",
    "        if jump < 3:\n",
    "            data[index] += 1\n",
    "        else:\n",
    "            data[index] -= 1\n",
    "        index += jump\n",
    "        jumps += 1\n",
    "    print(jumps)\n",
    "        "
   ]
  },
  {
   "cell_type": "markdown",
   "metadata": {},
   "source": [
    "## Day 6 ##"
   ]
  },
  {
   "cell_type": "code",
   "execution_count": 152,
   "metadata": {},
   "outputs": [
    {
     "name": "stdout",
     "output_type": "stream",
     "text": [
      "[2, 8, 8, 5, 4, 2, 3, 1, 5, 5, 1, 2, 15, 13, 5, 14]\n",
      "3156\n",
      "1610\n"
     ]
    }
   ],
   "source": [
    "#read input from txt file\n",
    "with open('input/day6.txt', 'r') as file:\n",
    "    data = [int(x) for x in file.read().rstrip().split('\\t')]\n",
    "    print(data)\n",
    "    history = []\n",
    "    steps = 0\n",
    "    while(1):\n",
    "        if(data in history):\n",
    "            break\n",
    "        history.append(list(data))\n",
    "        maxValue = max(data)\n",
    "        maxIndex = data.index(maxValue)\n",
    "        data[maxIndex] = 0\n",
    "        for x in range(1,maxValue+1):\n",
    "            data[(x+maxIndex) % len(data)] += 1\n",
    "        steps += 1\n",
    "    print(steps)\n",
    "    print(steps - history.index(data))"
   ]
  },
  {
   "cell_type": "markdown",
   "metadata": {},
   "source": [
    "## Day 7 ##"
   ]
  },
  {
   "cell_type": "code",
   "execution_count": 278,
   "metadata": {},
   "outputs": [
    {
     "name": "stdout",
     "output_type": "stream",
     "text": [
      "ykpsek\n",
      "[39, 1069, 1810, 1213, 26966, 24047, 47820, 64931, 58, 2587, 8461, 936, 10, 1710]\n"
     ]
    }
   ],
   "source": [
    "def addrecursevly(elem, weight,accweight,dictree):\n",
    "    if(elem in list(dictree.keys())):\n",
    "        accweight = addrecursevly(dictree[elem],weight,accweight,dictree)\n",
    "    accweight[elem] += weight\n",
    "    return accweight\n",
    "    \n",
    "\n",
    "#read input from txt file\n",
    "with open('input/day7.txt', 'r') as file:\n",
    "    data = file.read().rstrip()\n",
    "    data = data.split('\\n')\n",
    "    dictree = {}\n",
    "    dictweight = {}\n",
    "    dictparent = {}\n",
    "    for line in data:\n",
    "        linesplit = line.split(\"->\")\n",
    "        name = linesplit[0].split(' ')[0]\n",
    "        dictweight.update({name:int(linesplit[0].split(' ')[1][1:-1])})\n",
    "        if(len(linesplit) != 1):\n",
    "            dictparent.update({name:len(linesplit[1].split(','))})\n",
    "            for x in linesplit[1].split(','):\n",
    "                dictree.update({x.strip():name})\n",
    "    #search for the root\n",
    "    elem = list(dictree.values())[0] \n",
    "    while(elem in list(dictree.keys())):\n",
    "        elem = dictree[elem]\n",
    "    print(elem)\n",
    "    #add weight to parent\n",
    "    accweight = dict(dictweight)\n",
    "    for x in list(dictree.items()):\n",
    "        accweight = addrecursevly(x[1], int(dictweight[x[0]]),accweight,dictree)\n",
    "    errors = []\n",
    "    #check if parent is correct\n",
    "    for x in list(dictree.items()):\n",
    "        parent_weight = dictweight[x[1]]\n",
    "        parent_acc_weight = accweight[x[1]]\n",
    "        number_children = dictparent[x[1]]\n",
    "        if((parent_acc_weight - parent_weight)/number_children != accweight[x[0]]):\n",
    "            errors.append(dictweight[x[0]])\n",
    "    print(errors)\n",
    "    \n",
    "#I brute forced this, I have to come back to this later"
   ]
  },
  {
   "cell_type": "markdown",
   "metadata": {
    "collapsed": true
   },
   "source": [
    "## Day 8 ##"
   ]
  },
  {
   "cell_type": "code",
   "execution_count": 6,
   "metadata": {},
   "outputs": [
    {
     "name": "stdout",
     "output_type": "stream",
     "text": [
      "7787\n",
      "8997\n"
     ]
    }
   ],
   "source": [
    "#read input from txt file\n",
    "with open('input/day8.txt', 'r') as file:\n",
    "    data = file.read().rstrip()\n",
    "    dict_registers = {}\n",
    "    maximum_ever = 0\n",
    "    for line in data.split('\\n'):\n",
    "        arguments = line.split(' ')\n",
    "        if(arguments[0] not in dict_registers.keys()):\n",
    "            dict_registers[arguments[0]] = 0\n",
    "        if(arguments[4] not in dict_registers.keys()):\n",
    "            dict_registers[arguments[4]] = 0\n",
    "        ##evaluate expression\n",
    "        expr = eval(\" \".join([str(dict_registers[arguments[4]]),arguments[5],arguments[6]]))\n",
    "        if(expr):\n",
    "            if(arguments[1] == \"inc\"):\n",
    "                dict_registers[arguments[0]] += int(arguments[2])\n",
    "            else:\n",
    "                dict_registers[arguments[0]] -= int(arguments[2])\n",
    "        if(maximum_ever < max(dict_registers.values())):\n",
    "            maximum_ever = max(dict_registers.values())\n",
    "    print(max(dict_registers.values()))\n",
    "    print(maximum_ever)\n",
    "    "
   ]
  },
  {
   "cell_type": "markdown",
   "metadata": {
    "collapsed": true
   },
   "source": [
    "## Day 9 ##"
   ]
  },
  {
   "cell_type": "code",
   "execution_count": 23,
   "metadata": {},
   "outputs": [
    {
     "name": "stdout",
     "output_type": "stream",
     "text": [
      "14212\n",
      "6569\n"
     ]
    }
   ],
   "source": [
    "#read input from txt file\n",
    "with open('input/day9.txt', 'r') as file:\n",
    "    data = str(file.read().rstrip())\n",
    "    summation = 0\n",
    "    current_loop = 0\n",
    "    ignored = 0\n",
    "    in_garbage = False\n",
    "    ignore_next = False\n",
    "    for index in range(0,len(data)):\n",
    "        if(ignore_next):\n",
    "            ignore_next = False\n",
    "            continue\n",
    "        elif(data[index] == '!'):\n",
    "            ignore_next = True\n",
    "            continue\n",
    "        elif(data[index] == '<' and not in_garbage):\n",
    "            in_garbage = True\n",
    "            continue\n",
    "        elif(data[index] == '>'):\n",
    "            in_garbage = False\n",
    "            continue\n",
    "        elif(data[index] == '{' and not in_garbage):\n",
    "            current_loop += 1\n",
    "            continue\n",
    "        elif(data[index] == '}' and not in_garbage):\n",
    "            summation += current_loop\n",
    "            current_loop -= 1\n",
    "            continue\n",
    "        elif(in_garbage):\n",
    "            ignored += 1\n",
    "    print(summation)\n",
    "    print(ignored)"
   ]
  },
  {
   "cell_type": "markdown",
   "metadata": {
    "collapsed": true
   },
   "source": [
    "## Day 10 ##"
   ]
  },
  {
   "cell_type": "code",
   "execution_count": 44,
   "metadata": {},
   "outputs": [
    {
     "name": "stdout",
     "output_type": "stream",
     "text": [
      "20056\n",
      "d9a7de4a809c56bf3a9465cb84392c8e\n"
     ]
    }
   ],
   "source": [
    "#read input from txt file\n",
    "with open('input/day10.txt', 'r') as file:\n",
    "    data = [int(x) for x in file.read().rstrip().split(',')]\n",
    "    hashlist = list(range(0,256))\n",
    "    index = 0\n",
    "    skip_size = 0\n",
    "    \n",
    "    for length in data:\n",
    "        #get list\n",
    "        list_to_reverse = list(range(0,length))\n",
    "        for leng in range(0,length):\n",
    "            list_to_reverse[leng] = (hashlist[(index+leng)%len(hashlist)])\n",
    "        list_to_reverse.reverse()\n",
    "        #put reversed list back\n",
    "        for leng in range(0,length):\n",
    "            hashlist[(index+leng)%len(hashlist)] = list_to_reverse[leng]\n",
    "        index = (index + length + skip_size) % len(hashlist)\n",
    "        skip_size += 1\n",
    "        \n",
    "    print(hashlist[0] * hashlist[1])\n",
    "    file.close()\n",
    "    \n",
    "#second part\n",
    "from functools import reduce\n",
    "   \n",
    "with open('input/day10.txt', 'r') as file: \n",
    "    data = [ord(x) for x in file.read().rstrip()]\n",
    "    data.extend([int(x) for x in \"17, 31, 73, 47, 23\".split(',')])\n",
    "    \n",
    "    hashlist = list(range(0,256))\n",
    "    index = 0\n",
    "    skip_size = 0\n",
    "    \n",
    "    #loop 64 times\n",
    "    for loop in range(0, 64):\n",
    "        #same as before\n",
    "        for length in data:\n",
    "            #get list\n",
    "            list_to_reverse = list(range(0,length))\n",
    "            for leng in range(0,length):\n",
    "                list_to_reverse[leng] = (hashlist[(index+leng)%len(hashlist)])\n",
    "            list_to_reverse.reverse()\n",
    "            #put reversed list back\n",
    "            for leng in range(0,length):\n",
    "                hashlist[(index+leng)%len(hashlist)] = list_to_reverse[leng]\n",
    "            index = (index + length + skip_size) % len(hashlist)\n",
    "            skip_size += 1\n",
    "    dense_hash = [reduce(lambda i, j: int(i) ^ int(j), hashlist[x*16:(x+1)*16])  for x in range(0,16)]\n",
    "    final_hash = [str(format(x, \"x\")) for x in dense_hash]\n",
    "    string_hash = \"\".join(final_hash)\n",
    "    print(string_hash)\n",
    "    "
   ]
  },
  {
   "cell_type": "markdown",
   "metadata": {
    "collapsed": true
   },
   "source": [
    "## Day 11 ##"
   ]
  },
  {
   "cell_type": "code",
   "execution_count": 5,
   "metadata": {},
   "outputs": [
    {
     "name": "stdout",
     "output_type": "stream",
     "text": [
      "1490\n"
     ]
    }
   ],
   "source": [
    "#read input from txt file\n",
    "with open('input/day11.txt', 'r') as file:\n",
    "    data = file.read().rstrip().split(',')\n",
    "    maxi = 0\n",
    "    x,y,z = 0,0,0\n",
    "    for direction in data:\n",
    "        if(direction == \"ne\"):\n",
    "            y += 1\n",
    "            z -= 1\n",
    "        elif(direction == \"n\"):\n",
    "            x -= 1\n",
    "            y += 1\n",
    "        elif(direction == \"nw\"):\n",
    "            x -=1\n",
    "            z +=1\n",
    "        elif(direction == \"sw\"):\n",
    "            y -=1\n",
    "            z += 1\n",
    "        elif(direction == \"s\"):\n",
    "            x +=1\n",
    "            y -= 1\n",
    "        elif(direction == \"se\"):\n",
    "            z -=1\n",
    "            x +=1\n",
    "        if (max(abs(x),abs(y),abs(z)) > maxi):\n",
    "            maxi = max(abs(x),abs(y),abs(z))\n",
    "    print(maxi)"
   ]
  },
  {
   "cell_type": "markdown",
   "metadata": {
    "collapsed": true
   },
   "source": [
    "## Day 12 ##"
   ]
  },
  {
   "cell_type": "code",
   "execution_count": 7,
   "metadata": {},
   "outputs": [
    {
     "ename": "IndentationError",
     "evalue": "expected an indented block (<ipython-input-7-23e1532283a2>, line 18)",
     "output_type": "error",
     "traceback": [
      "\u001b[1;36m  File \u001b[1;32m\"<ipython-input-7-23e1532283a2>\"\u001b[1;36m, line \u001b[1;32m18\u001b[0m\n\u001b[1;33m    program, data, visited = visit(int(prog),data,visited)\u001b[0m\n\u001b[1;37m          ^\u001b[0m\n\u001b[1;31mIndentationError\u001b[0m\u001b[1;31m:\u001b[0m expected an indented block\n"
     ]
    }
   ],
   "source": [
    "def visit(program, data, visited):\n",
    "    if(visited[program]):\n",
    "        return program, data, visited\n",
    "    else:\n",
    "        to_visit = data[program].split('<->')[1].split(',')\n",
    "        visited[program] = True\n",
    "        for prog in to_visit:\n",
    "            program, data, visited = visit(int(prog),data,visited)\n",
    "        return program, data, visited\n",
    "\n",
    "#read input from txt file\n",
    "with open('input/day12.txt', 'r') as file:\n",
    "    data = file.read().rstrip().split('\\n')\n",
    "    group = 0\n",
    "    visited = [False] * len(data)\n",
    "    for index in range(len(data)):\n",
    "        if(visited[index]):\n",
    "        program, data, visited = visit(int(prog),data,visited)\n",
    "    print(visited.count(True))"
   ]
  },
  {
   "cell_type": "code",
   "execution_count": null,
   "metadata": {},
   "outputs": [],
   "source": []
  }
 ],
 "metadata": {
  "kernelspec": {
   "display_name": "Python 3",
   "language": "python",
   "name": "python3"
  },
  "language_info": {
   "codemirror_mode": {
    "name": "ipython",
    "version": 3
   },
   "file_extension": ".py",
   "mimetype": "text/x-python",
   "name": "python",
   "nbconvert_exporter": "python",
   "pygments_lexer": "ipython3",
   "version": "3.6.2"
  }
 },
 "nbformat": 4,
 "nbformat_minor": 2
}
