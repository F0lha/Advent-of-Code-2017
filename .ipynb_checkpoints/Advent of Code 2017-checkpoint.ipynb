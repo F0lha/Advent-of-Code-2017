{
 "cells": [
  {
   "cell_type": "markdown",
   "metadata": {},
   "source": [
    "# Advent of Code 2017\n",
    "\n",
    "Done by me!"
   ]
  },
  {
   "cell_type": "markdown",
   "metadata": {},
   "source": [
    "## Day 1 ##"
   ]
  },
  {
   "cell_type": "code",
   "execution_count": 8,
   "metadata": {},
   "outputs": [
    {
     "name": "stdout",
     "output_type": "stream",
     "text": [
      "1158\n",
      "1132\n"
     ]
    }
   ],
   "source": [
    "#read input from txt file\n",
    "with open('input/day1.txt', 'r') as file:\n",
    "    data=file.read().replace('\\n','')\n",
    "    #first question\n",
    "    summation = 0\n",
    "    for index in range(0,len(data)):\n",
    "        if(data[index] == data[(index + 1) % len(data)]):\n",
    "            summation += int(data[index])\n",
    "    print(summation)\n",
    "    #second question\n",
    "    summation = 0\n",
    "    for index in range(0,len(data)):\n",
    "        if(data[index] == data[(index + int(len(data)/2)) % len(data)]):\n",
    "            summation += int(data[index])\n",
    "    print(summation)\n",
    "            "
   ]
  },
  {
   "cell_type": "markdown",
   "metadata": {},
   "source": [
    "## Day 2##"
   ]
  },
  {
   "cell_type": "code",
   "execution_count": 26,
   "metadata": {},
   "outputs": [
    {
     "name": "stdout",
     "output_type": "stream",
     "text": [
      "51833\n",
      "288\n"
     ]
    }
   ],
   "source": [
    "def lookformultiples(numbers):\n",
    "    for index in range(0,len(numbers)-1):\n",
    "            for index2 in range(index+1,len(numbers)):\n",
    "                if((numbers[index] % numbers[index2]) == 0):\n",
    "                    return int(numbers[index] / numbers[index2])\n",
    "                elif((numbers[index2] % numbers[index]) == 0):\n",
    "                    return int(numbers[index2] / numbers[index])\n",
    "    return -1\n",
    "\n",
    "#read input from txt file\n",
    "with open('input/day2.txt', 'r') as file:\n",
    "    summation = 0\n",
    "    data=file.read().rstrip().split('\\n')\n",
    "    #first question\n",
    "    for line in data:\n",
    "        numbers = [int(x) for x in line.split()]\n",
    "        summation += max(numbers) - min(numbers)\n",
    "    print(summation)\n",
    "    #second question\n",
    "    summation = 0\n",
    "    for line in data:\n",
    "        numbers = [int(x) for x in line.split()]\n",
    "        summation += lookformultiples(numbers)\n",
    "    print(summation)\n",
    "        \n",
    "            "
   ]
  },
  {
   "cell_type": "code",
   "execution_count": null,
   "metadata": {
    "collapsed": true
   },
   "outputs": [],
   "source": []
  }
 ],
 "metadata": {
  "kernelspec": {
   "display_name": "Python 3",
   "language": "python",
   "name": "python3"
  },
  "language_info": {
   "codemirror_mode": {
    "name": "ipython",
    "version": 3
   },
   "file_extension": ".py",
   "mimetype": "text/x-python",
   "name": "python",
   "nbconvert_exporter": "python",
   "pygments_lexer": "ipython3",
   "version": "3.6.2"
  }
 },
 "nbformat": 4,
 "nbformat_minor": 2
}
